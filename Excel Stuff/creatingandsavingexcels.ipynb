{
 "cells": [
  {
   "cell_type": "markdown",
   "metadata": {},
   "source": [
    "Creating and Saving Excel Documents"
   ]
  },
  {
   "cell_type": "code",
   "execution_count": 2,
   "metadata": {},
   "outputs": [
    {
     "name": "stderr",
     "output_type": "stream",
     "text": [
      "C:\\Users\\rking\\AppData\\Local\\Temp\\ipykernel_22104\\1407010568.py:4: DeprecationWarning: Call to deprecated function get_sheet_names (Use wb.sheetnames).\n",
      "  wb.get_sheet_names()\n"
     ]
    }
   ],
   "source": [
    "import openpyxl\n",
    "\n",
    "wb = openpyxl.Workbook()\n",
    "wb.get_sheet_names()\n",
    "\n",
    "sheet = wb.active\n",
    "sheet.title = 'Spam Bacon Eggs Sheet'"
   ]
  },
  {
   "cell_type": "code",
   "execution_count": 18,
   "metadata": {},
   "outputs": [],
   "source": [
    "wb = openpyxl.load_workbook('expenses.xlsx')\n",
    "sheet = wb.active\n",
    "sheet.freeze_panes = 'A2'\n",
    "sheet.title = 'Spam Spam Spam'\n",
    "wb.save('example_copy.xlsx')"
   ]
  },
  {
   "cell_type": "code",
   "execution_count": 9,
   "metadata": {},
   "outputs": [
    {
     "data": {
      "text/plain": [
       "<Worksheet \"Middle Sheet\">"
      ]
     },
     "execution_count": 9,
     "metadata": {},
     "output_type": "execute_result"
    }
   ],
   "source": [
    "wb.create_sheet(index=0, title='First Sheet')\n",
    "wb.create_sheet(index=2, title='Middle Sheet')"
   ]
  },
  {
   "cell_type": "code",
   "execution_count": 10,
   "metadata": {},
   "outputs": [
    {
     "name": "stderr",
     "output_type": "stream",
     "text": [
      "C:\\Users\\rking\\AppData\\Local\\Temp\\ipykernel_22104\\192554133.py:1: DeprecationWarning: Call to deprecated function get_sheet_by_name (Use wb[sheetname]).\n",
      "  wb.remove_sheet(wb.get_sheet_by_name('Middle Sheet'))\n",
      "C:\\Users\\rking\\AppData\\Local\\Temp\\ipykernel_22104\\192554133.py:1: DeprecationWarning: Call to deprecated function remove_sheet (Use wb.remove(worksheet) or del wb[sheetname]).\n",
      "  wb.remove_sheet(wb.get_sheet_by_name('Middle Sheet'))\n"
     ]
    }
   ],
   "source": [
    "wb.remove_sheet(wb.get_sheet_by_name('Middle Sheet'))\n"
   ]
  },
  {
   "cell_type": "code",
   "execution_count": 11,
   "metadata": {},
   "outputs": [
    {
     "name": "stderr",
     "output_type": "stream",
     "text": [
      "C:\\Users\\rking\\AppData\\Local\\Temp\\ipykernel_22104\\3768416203.py:2: DeprecationWarning: Call to deprecated function get_sheet_by_name (Use wb[sheetname]).\n",
      "  sheet = wb.get_sheet_by_name('Sheet')\n"
     ]
    },
    {
     "data": {
      "text/plain": [
       "'Hello world!'"
      ]
     },
     "execution_count": 11,
     "metadata": {},
     "output_type": "execute_result"
    }
   ],
   "source": [
    "wb = openpyxl.Workbook()\n",
    "sheet = wb.get_sheet_by_name('Sheet')\n",
    "sheet['A1'] = 'Hello world!'\n",
    "sheet['A1'].value"
   ]
  },
  {
   "cell_type": "markdown",
   "metadata": {},
   "source": [
    "## Updating a Spreadsheet"
   ]
  },
  {
   "cell_type": "markdown",
   "metadata": {},
   "source": [
    "### Step 1: Set Up a Data Structure with the Update Information"
   ]
  },
  {
   "cell_type": "code",
   "execution_count": 19,
   "metadata": {},
   "outputs": [
    {
     "name": "stderr",
     "output_type": "stream",
     "text": [
      "C:\\Users\\rking\\AppData\\Local\\Temp\\ipykernel_22104\\4043620905.py:4: DeprecationWarning: Call to deprecated function get_sheet_by_name (Use wb[sheetname]).\n",
      "  sheet = wb.get_sheet_by_name('Sheet')\n"
     ]
    }
   ],
   "source": [
    "import openpyxl\n",
    "\n",
    "wb = openpyxl.load_workbook('produceSales.xlsx')\n",
    "sheet = wb.get_sheet_by_name('Sheet')\n",
    "sheet.freeze_panes = 'A2'\n",
    "wb.save('freezeExample.xlsx')\n",
    "\n",
    "\n",
    "# The produce types and their updated prices\n",
    "PRICE_UPDATES = {'Garlic': 3.07,\n",
    "                 'Celery': 1.19,\n",
    "                 'Lemon': 1.27}"
   ]
  },
  {
   "cell_type": "markdown",
   "metadata": {},
   "source": [
    "### Step 2: Check All Rows and Update Incorrect Prices"
   ]
  },
  {
   "cell_type": "code",
   "execution_count": 15,
   "metadata": {},
   "outputs": [],
   "source": [
    "# updateProduce.py - Corrects costs in produce sales spreadsheet.\n",
    "\n",
    "# Loop through the rows and update the prices.\n",
    "for rowNum in range(2, sheet.max_row + 1):  # skip the first row\n",
    "    produceName = sheet.cell(row=rowNum, column=1).value\n",
    "    if produceName in PRICE_UPDATES:\n",
    "        sheet.cell(row=rowNum, column=2).value = PRICE_UPDATES[produceName]\n",
    "\n",
    "wb.save('updatedProduceSales.xlsx')"
   ]
  },
  {
   "cell_type": "code",
   "execution_count": 17,
   "metadata": {},
   "outputs": [
    {
     "name": "stderr",
     "output_type": "stream",
     "text": [
      "C:\\Users\\rking\\AppData\\Local\\Temp\\ipykernel_22104\\2869140786.py:4: DeprecationWarning: Call to deprecated function get_sheet_by_name (Use wb[sheetname]).\n",
      "  sheet = wb.get_sheet_by_name('Sheet')\n"
     ]
    }
   ],
   "source": [
    "from openpyxl.styles import Font\n",
    "\n",
    "wb = openpyxl.Workbook()\n",
    "sheet = wb.get_sheet_by_name('Sheet')\n",
    "italic24Font = Font(size=24, italic=True)\n",
    "sheet['A1'].font = italic24Font\n",
    "sheet['A1'] = 'Hello world!'\n",
    "wb.save('styled.xlsx')"
   ]
  },
  {
   "cell_type": "markdown",
   "metadata": {},
   "source": [
    "## Charts"
   ]
  },
  {
   "cell_type": "code",
   "execution_count": 21,
   "metadata": {},
   "outputs": [],
   "source": [
    "import openpyxl\n",
    "wb = openpyxl.Workbook()\n",
    "sheet = wb.active\n",
    "for i in range(1, 11):         # create some data in column A\n",
    "    sheet['A' + str(i)] = i\n",
    "\n",
    "refObj = openpyxl.chart.Reference(sheet, min_col=1, min_row=1, max_col=1, max_row=10)\n",
    "seriesObj = openpyxl.chart.Series(refObj, title='First series')"
   ]
  },
  {
   "cell_type": "code",
   "execution_count": 22,
   "metadata": {},
   "outputs": [],
   "source": [
    "chartObj = openpyxl.chart.BarChart()\n",
    "# openpyxl.chart.LineChart()\n",
    "# openpyxl.chart.PieChart()\n",
    "# openpyxl.chart.ScatterChart()\n",
    "chartObj.title = 'My Chart'\n",
    "chartObj.append(seriesObj)\n",
    "sheet.add_chart(chartObj, 'C5')\n",
    "wb.save('sampleChart.xlsx')"
   ]
  },
  {
   "cell_type": "code",
   "execution_count": null,
   "metadata": {},
   "outputs": [],
   "source": []
  }
 ],
 "metadata": {
  "kernelspec": {
   "display_name": "base",
   "language": "python",
   "name": "python3"
  },
  "language_info": {
   "codemirror_mode": {
    "name": "ipython",
    "version": 3
   },
   "file_extension": ".py",
   "mimetype": "text/x-python",
   "name": "python",
   "nbconvert_exporter": "python",
   "pygments_lexer": "ipython3",
   "version": "3.11.4"
  }
 },
 "nbformat": 4,
 "nbformat_minor": 2
}
